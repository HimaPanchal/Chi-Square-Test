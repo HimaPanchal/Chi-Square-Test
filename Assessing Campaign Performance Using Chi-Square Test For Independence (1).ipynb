{
 "cells": [
  {
   "cell_type": "code",
   "execution_count": 2,
   "id": "7c36d3ab",
   "metadata": {},
   "outputs": [],
   "source": [
    "# Import required packages\n",
    "import pandas as pd\n",
    "from scipy.stats import chi2_contingency,chi2"
   ]
  },
  {
   "cell_type": "markdown",
   "id": "1213940a",
   "metadata": {},
   "source": [
    "# Data Preparation and Processing \n",
    "\n",
    "In the database provided, we have a campaign_data table which shows us which customers received each type of “Delivery Club” mailer, which customers were in the control group, and which customers joined the club as a result. I have included the raw excel file in the main folder, take a look at campaign_data\n",
    "\n",
    "For this task, we are looking to find evidence that the Delivery Club sign-up rate for customers that received “Mailer 1” (low cost) was different to those who received “Mailer 2” (high cost) and thus from the campaign_data table we will just extract customers in those two groups, and exclude customers who were in the control group.\n",
    "\n",
    "In the code below, we:\n",
    "\n",
    "Load in the Python libraries we require for importing the data and performing the chi-square test (using scipy)\n",
    "Import the required data from the campaign_data table\n",
    "Exclude customers in the control group, giving us a dataset with Mailer 1 & Mailer 2 customers only"
   ]
  },
  {
   "cell_type": "code",
   "execution_count": null,
   "id": "9e54ce64",
   "metadata": {},
   "outputs": [],
   "source": []
  },
  {
   "cell_type": "code",
   "execution_count": 36,
   "id": "4326dec3",
   "metadata": {},
   "outputs": [],
   "source": [
    "# Import Data from an excel file in campaign_data sheet\n",
    "campaign_data = pd.read_excel(\"grocery_database.xlsx\", sheet_name =\"campaign_data\")"
   ]
  },
  {
   "cell_type": "code",
   "execution_count": 23,
   "id": "8c39a92f",
   "metadata": {},
   "outputs": [],
   "source": [
    "# Filtering data from the campaign_data sheet to filter and remove the Control group\n",
    "campaign_data = campaign_data.loc[campaign_data[\"mailer_type\"] != \"Control\"]"
   ]
  },
  {
   "cell_type": "markdown",
   "id": "44425313",
   "metadata": {},
   "source": [
    "# Applying Chi-Square Test For Independence\n",
    "\n",
    "State Hypotheses & Acceptance Criteria For Test\n",
    "First things first for the Hypothesis test is state our Null Hypothesis, our Alternate Hypothesis, and the Acceptance Criteria \n",
    "\n",
    "We specify the common Acceptance Criteria value of 0.05."
   ]
  },
  {
   "cell_type": "code",
   "execution_count": 24,
   "id": "3835f1ee",
   "metadata": {},
   "outputs": [],
   "source": [
    "# specify hypotheses & acceptance criteria for test\n",
    "null_hypothesis = \"There is no relationship between mailer type and sign-up rate.  They are independent\"\n",
    "alternate_hypothesis = \"There is a relationship between mailer type and sign-up rate.  They are not independent\"\n",
    "acceptance_criteria = 0.05"
   ]
  },
  {
   "cell_type": "markdown",
   "id": "90f49c48",
   "metadata": {},
   "source": [
    "# Calculate Observed Frequencies & Expected Frequencies\n",
    "\n",
    "In a Chi-Square Test For Independence, the observed frequencies are the true values that we have seen, in other words the actual rates per group in the data itself. The expected frequencies are what we would expect to see based on all of the data combined.\n",
    "\n",
    "Explanation of code below:\n",
    "\n",
    "Summarizes our dataset to a 2x2 matrix for signup_flag by mailer_type\n",
    "Based on this, calculates the:\n",
    "Chi-Square Statistic\n",
    "p-value\n",
    "Degrees of Freedom - dof\n",
    "Expected Values\n",
    "Prints out the Chi-Square Statistic & p-value from the test\n",
    "Calculates the Critical Value based upon our Acceptance Criteria & the Degrees Of Freedom\n",
    "Prints out the Critical Value"
   ]
  },
  {
   "cell_type": "code",
   "execution_count": 25,
   "id": "73e7bd8a",
   "metadata": {},
   "outputs": [],
   "source": [
    "# 2* 2 matric summarize to get our observed frequencies\n",
    "# aggregate our data to get observed values\n",
    "observed_values = pd.crosstab(campaign_data[\"mailer_type\"], \n",
    "                              campaign_data[\"signup_flag\"]).values\n",
    "\n"
   ]
  },
  {
   "cell_type": "code",
   "execution_count": 34,
   "id": "56987ae9",
   "metadata": {},
   "outputs": [],
   "source": [
    "# run the chi-square test\n",
    "chi2_statistic, p_value, dof, expected_values = chi2_contingency(observed_values, correction = False)\n"
   ]
  },
  {
   "cell_type": "code",
   "execution_count": 27,
   "id": "9e87a4d0",
   "metadata": {},
   "outputs": [
    {
     "name": "stdout",
     "output_type": "stream",
     "text": [
      "1.9414468614812481\n"
     ]
    }
   ],
   "source": [
    "# print chi-square statistic\n",
    "print(chi2_statistic)\n"
   ]
  },
  {
   "cell_type": "code",
   "execution_count": 28,
   "id": "9893434b",
   "metadata": {},
   "outputs": [
    {
     "name": "stdout",
     "output_type": "stream",
     "text": [
      "0.16351152223398197\n"
     ]
    }
   ],
   "source": [
    "print(p_value)"
   ]
  },
  {
   "cell_type": "code",
   "execution_count": 29,
   "id": "9a640841",
   "metadata": {},
   "outputs": [],
   "source": [
    "critical_value = chi2.ppf(1 - acceptance_criteria, dof)\n"
   ]
  },
  {
   "cell_type": "code",
   "execution_count": 30,
   "id": "a9cae874",
   "metadata": {},
   "outputs": [
    {
     "name": "stdout",
     "output_type": "stream",
     "text": [
      "3.841458820694124\n"
     ]
    }
   ],
   "source": [
    "# print critical value\n",
    "print(critical_value)\n",
    "\n"
   ]
  },
  {
   "cell_type": "raw",
   "id": "1f7251a1",
   "metadata": {},
   "source": []
  },
  {
   "cell_type": "markdown",
   "id": "dd712d8e",
   "metadata": {},
   "source": [
    "# Analysing The Results\n",
    "\n",
    "At this point we have all the required results to prove our Chi-Square test - and just from the results above we can see that, since our resulting p-value of 0.16 is greater than our Acceptance Criteria of 0.05 then we will retain the Null Hypothesis and conclude that there is no significant difference between the sign-up rates of Mailer 1 and Mailer 2.\n",
    "\n",
    "We can make the same conclusion based upon our resulting Chi-Square statistic of 1.94 being lower than our Critical Value of 3.84\n",
    "\n",
    "To make this script more dynamic, following is the code which meets our objective more closely : "
   ]
  },
  {
   "cell_type": "code",
   "execution_count": 32,
   "id": "06d1e9c7",
   "metadata": {},
   "outputs": [
    {
     "name": "stdout",
     "output_type": "stream",
     "text": [
      "As our p-value of 0.16351152223398197 is higher than our acceptance_criteria of 0.05 - we retain the null hypothesis, and conclude that: There is no relationship between mailer type and sign-up rate.  They are independent\n"
     ]
    }
   ],
   "source": [
    "# print the results (based upon p-value)\n",
    "if p_value <= acceptance_criteria:\n",
    "    print(f\"As our p-value of {p_value} is lower than our acceptance_criteria of {acceptance_criteria} - we reject the null hypothesis, and conclude that: {alternate_hypothesis}\")\n",
    "else:\n",
    "    print(f\"As our p-value of {p_value} is higher than our acceptance_criteria of {acceptance_criteria} - we retain the null hypothesis, and conclude that: {null_hypothesis}\")\n",
    "\n",
    "\n"
   ]
  },
  {
   "cell_type": "code",
   "execution_count": 33,
   "id": "89718804",
   "metadata": {},
   "outputs": [
    {
     "name": "stdout",
     "output_type": "stream",
     "text": [
      "As our chi-square statistic of 1.9414468614812481 is lower than our critical value of 3.841458820694124 - we retain the null hypothesis, and conclude that: There is no relationship between mailer type and sign-up rate.  They are independent\n"
     ]
    }
   ],
   "source": [
    "# print the results (based upon p-value)\n",
    "if chi2_statistic >= critical_value:\n",
    "    print(f\"As our chi-square statistic of {chi2_statistic} is higher than our critical value of {critical_value} - we reject the null hypothesis, and conclude that: {alternate_hypothesis}\")\n",
    "else:\n",
    "    print(f\"As our chi-square statistic of {chi2_statistic} is lower than our critical value of {critical_value} - we retain the null hypothesis, and conclude that: {null_hypothesis}\")\n",
    "    \n",
    "\n"
   ]
  },
  {
   "cell_type": "markdown",
   "id": "420d9d2d",
   "metadata": {},
   "source": [
    "As we can see from the outputs above, we retain the null hypothesis. We could not find enough evidence that the sign-up rates for Mailer 1 and Mailer 2 were different - and thus conclude that there was no significant difference.\n",
    "\n"
   ]
  },
  {
   "cell_type": "code",
   "execution_count": null,
   "id": "fd3170b7",
   "metadata": {},
   "outputs": [],
   "source": []
  }
 ],
 "metadata": {
  "kernelspec": {
   "display_name": "Python 3 (ipykernel)",
   "language": "python",
   "name": "python3"
  },
  "language_info": {
   "codemirror_mode": {
    "name": "ipython",
    "version": 3
   },
   "file_extension": ".py",
   "mimetype": "text/x-python",
   "name": "python",
   "nbconvert_exporter": "python",
   "pygments_lexer": "ipython3",
   "version": "3.9.13"
  }
 },
 "nbformat": 4,
 "nbformat_minor": 5
}
