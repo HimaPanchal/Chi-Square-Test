{
 "cells": [
  {
   "cell_type": "code",
   "execution_count": 35,
   "id": "7c36d3ab",
   "metadata": {},
   "outputs": [],
   "source": [
    "# Import required packages\n",
    "import pandas as pd\n",
    "from scipy.stats import chi2_contingency,chi2\n"
   ]
  },
  {
   "cell_type": "code",
   "execution_count": 36,
   "id": "4326dec3",
   "metadata": {},
   "outputs": [],
   "source": [
    "# Import Data from an excel file in campaign_data sheet\n",
    "campaign_data = pd.read_excel(\"grocery_database.xlsx\", sheet_name =\"campaign_data\")"
   ]
  },
  {
   "cell_type": "code",
   "execution_count": 23,
   "id": "8c39a92f",
   "metadata": {},
   "outputs": [],
   "source": [
    "# Filtering data from the campaign_data sheet to filter and remove the Control group\n",
    "campaign_data = campaign_data.loc[campaign_data[\"mailer_type\"] != \"Control\"]"
   ]
  },
  {
   "cell_type": "code",
   "execution_count": 24,
   "id": "3835f1ee",
   "metadata": {},
   "outputs": [],
   "source": [
    "# specify hypotheses & acceptance criteria for test\n",
    "null_hypothesis = \"There is no relationship between mailer type and sign-up rate.  They are independent\"\n",
    "alternate_hypothesis = \"There is a relationship between mailer type and sign-up rate.  They are not independent\"\n",
    "acceptance_criteria = 0.05"
   ]
  },
  {
   "cell_type": "code",
   "execution_count": 25,
   "id": "73e7bd8a",
   "metadata": {},
   "outputs": [],
   "source": [
    "# 2* 2 matric summarize to get our observed frequencies\n",
    "# aggregate our data to get observed values\n",
    "observed_values = pd.crosstab(campaign_data[\"mailer_type\"], \n",
    "                              campaign_data[\"signup_flag\"]).values\n",
    "\n"
   ]
  },
  {
   "cell_type": "code",
   "execution_count": 34,
   "id": "56987ae9",
   "metadata": {},
   "outputs": [],
   "source": [
    "# run the chi-square test\n",
    "chi2_statistic, p_value, dof, expected_values = chi2_contingency(observed_values, correction = False)\n"
   ]
  },
  {
   "cell_type": "code",
   "execution_count": 27,
   "id": "9e87a4d0",
   "metadata": {},
   "outputs": [
    {
     "name": "stdout",
     "output_type": "stream",
     "text": [
      "1.9414468614812481\n"
     ]
    }
   ],
   "source": [
    "# print chi-square statistic\n",
    "print(chi2_statistic)\n"
   ]
  },
  {
   "cell_type": "code",
   "execution_count": 28,
   "id": "9893434b",
   "metadata": {},
   "outputs": [
    {
     "name": "stdout",
     "output_type": "stream",
     "text": [
      "0.16351152223398197\n"
     ]
    }
   ],
   "source": [
    "print(p_value)"
   ]
  },
  {
   "cell_type": "code",
   "execution_count": 29,
   "id": "9a640841",
   "metadata": {},
   "outputs": [],
   "source": [
    "critical_value = chi2.ppf(1 - acceptance_criteria, dof)\n"
   ]
  },
  {
   "cell_type": "code",
   "execution_count": 30,
   "id": "a9cae874",
   "metadata": {},
   "outputs": [
    {
     "name": "stdout",
     "output_type": "stream",
     "text": [
      "3.841458820694124\n"
     ]
    }
   ],
   "source": [
    "# print critical value\n",
    "print(critical_value)\n",
    "\n"
   ]
  },
  {
   "cell_type": "code",
   "execution_count": 32,
   "id": "06d1e9c7",
   "metadata": {},
   "outputs": [
    {
     "name": "stdout",
     "output_type": "stream",
     "text": [
      "As our p-value of 0.16351152223398197 is higher than our acceptance_criteria of 0.05 - we retain the null hypothesis, and conclude that: There is no relationship between mailer type and sign-up rate.  They are independent\n"
     ]
    }
   ],
   "source": [
    "# print the results (based upon p-value)\n",
    "if p_value <= acceptance_criteria:\n",
    "    print(f\"As our p-value of {p_value} is lower than our acceptance_criteria of {acceptance_criteria} - we reject the null hypothesis, and conclude that: {alternate_hypothesis}\")\n",
    "else:\n",
    "    print(f\"As our p-value of {p_value} is higher than our acceptance_criteria of {acceptance_criteria} - we retain the null hypothesis, and conclude that: {null_hypothesis}\")\n",
    "\n",
    "\n"
   ]
  },
  {
   "cell_type": "code",
   "execution_count": 33,
   "id": "89718804",
   "metadata": {},
   "outputs": [
    {
     "name": "stdout",
     "output_type": "stream",
     "text": [
      "As our chi-square statistic of 1.9414468614812481 is lower than our critical value of 3.841458820694124 - we retain the null hypothesis, and conclude that: There is no relationship between mailer type and sign-up rate.  They are independent\n"
     ]
    }
   ],
   "source": [
    "# print the results (based upon p-value)\n",
    "if chi2_statistic >= critical_value:\n",
    "    print(f\"As our chi-square statistic of {chi2_statistic} is higher than our critical value of {critical_value} - we reject the null hypothesis, and conclude that: {alternate_hypothesis}\")\n",
    "else:\n",
    "    print(f\"As our chi-square statistic of {chi2_statistic} is lower than our critical value of {critical_value} - we retain the null hypothesis, and conclude that: {null_hypothesis}\")\n",
    "    \n",
    "\n"
   ]
  },
  {
   "cell_type": "code",
   "execution_count": null,
   "id": "31c17302",
   "metadata": {},
   "outputs": [],
   "source": []
  }
 ],
 "metadata": {
  "kernelspec": {
   "display_name": "Python 3 (ipykernel)",
   "language": "python",
   "name": "python3"
  },
  "language_info": {
   "codemirror_mode": {
    "name": "ipython",
    "version": 3
   },
   "file_extension": ".py",
   "mimetype": "text/x-python",
   "name": "python",
   "nbconvert_exporter": "python",
   "pygments_lexer": "ipython3",
   "version": "3.9.13"
  }
 },
 "nbformat": 4,
 "nbformat_minor": 5
}
